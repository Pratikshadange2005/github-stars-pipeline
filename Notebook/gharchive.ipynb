{
 "cells": [
  {
   "cell_type": "code",
   "execution_count": 2,
   "metadata": {},
   "outputs": [],
   "source": [
    "import duckdb \n",
    "import pandas as pd \n",
    "import matplotlib.pyplot as plt\n"
   ]
  },
  {
   "cell_type": "code",
   "execution_count": 3,
   "metadata": {},
   "outputs": [],
   "source": [
    "con = duckdb.connect(\"/Users/pratikshadange/Documents/GitHub/Github_gems/github-stars-pipeline/github_stars.db\") "
   ]
  },
  {
   "cell_type": "code",
   "execution_count": 4,
   "metadata": {},
   "outputs": [],
   "source": [
    "query = \"\"\"\n",
    "  select *\n",
    "  from github_stars.repo_stars_monthly\n",
    "\"\"\"\n",
    "df_monthly_stars = con.sql(query).df()\n",
    "df_monthly_stars.to_csv(\"monthly_stars.csv\")"
   ]
  },
  {
   "cell_type": "code",
   "execution_count": null,
   "metadata": {},
   "outputs": [
    {
     "ename": "NameError",
     "evalue": "name 'df' is not defined",
     "output_type": "error",
     "traceback": [
      "\u001b[0;31m---------------------------------------------------------------------------\u001b[0m",
      "\u001b[0;31mNameError\u001b[0m                                 Traceback (most recent call last)",
      "Cell \u001b[0;32mIn[7], line 2\u001b[0m\n\u001b[1;32m      1\u001b[0m \u001b[38;5;66;03m#Get top 5 repositories by cumulative star count in the latest month\u001b[39;00m\n\u001b[0;32m----> 2\u001b[0m top_repos \u001b[38;5;241m=\u001b[39m df_monthly_stars[df_monthly_stars[\u001b[38;5;124m'\u001b[39m\u001b[38;5;124mdate_month\u001b[39m\u001b[38;5;124m'\u001b[39m] \u001b[38;5;241m==\u001b[39m df[\u001b[38;5;124m'\u001b[39m\u001b[38;5;124mdate_month\u001b[39m\u001b[38;5;124m'\u001b[39m]\u001b[38;5;241m.\u001b[39mmax()] \\\n\u001b[1;32m      3\u001b[0m     \u001b[38;5;241m.\u001b[39mnlargest(\u001b[38;5;241m5\u001b[39m, \u001b[38;5;124m'\u001b[39m\u001b[38;5;124mcumul_star_count\u001b[39m\u001b[38;5;124m'\u001b[39m)[\u001b[38;5;124m'\u001b[39m\u001b[38;5;124mrepo_name\u001b[39m\u001b[38;5;124m'\u001b[39m]\n\u001b[1;32m      5\u001b[0m filtered_data \u001b[38;5;241m=\u001b[39m df_monthly_stars[df_monthly_stars[\u001b[38;5;124m'\u001b[39m\u001b[38;5;124mrepo_name\u001b[39m\u001b[38;5;124m'\u001b[39m]\u001b[38;5;241m.\u001b[39misin(top_repos)]\u001b[38;5;241m.\u001b[39msort_values(\u001b[38;5;124m'\u001b[39m\u001b[38;5;124mdate_month\u001b[39m\u001b[38;5;124m'\u001b[39m)\n\u001b[1;32m      7\u001b[0m plt\u001b[38;5;241m.\u001b[39mfigure(figsize\u001b[38;5;241m=\u001b[39m(\u001b[38;5;241m12\u001b[39m, \u001b[38;5;241m6\u001b[39m))\n",
      "\u001b[0;31mNameError\u001b[0m: name 'df' is not defined"
     ]
    }
   ],
   "source": [
    "\n",
    "#Get top 5 repositories by cumulative star count in the latest month\n",
    "top_repos = df_monthly_stars[df_monthly_stars['date_month'] == df_monthly_stars['date_month'].max()] \\\n",
    "    .nlargest(5, 'cumul_star_count')['repo_name']\n",
    "\n",
    "filtered_data = df_monthly_stars[df_monthly_stars['repo_name'].isin(top_repos)].sort_values('date_month')\n",
    "\n",
    "plt.figure(figsize=(12, 6))\n",
    "for repo in top_repos:\n",
    "    repo_data = filtered_data[filtered_data['repo_name'] == repo]\n",
    "    plt.plot(repo_data['date_month'], repo_data['cumul_star_count'], label=repo)\n",
    "\n",
    "plt.xlabel('Month')\n",
    "plt.ylabel('Cumulative Star Count')\n",
    "plt.title('Cumulative Evaluation of Stars for Top 5 Repos Over Time')\n",
    "plt.legend(title=\"Repository\", loc='upper left')\n",
    "plt.grid(True)\n",
    "plt.show()\n"
   ]
  },
  {
   "cell_type": "code",
   "execution_count": null,
   "metadata": {},
   "outputs": [],
   "source": []
  }
 ],
 "metadata": {
  "kernelspec": {
   "display_name": "base",
   "language": "python",
   "name": "python3"
  },
  "language_info": {
   "codemirror_mode": {
    "name": "ipython",
    "version": 3
   },
   "file_extension": ".py",
   "mimetype": "text/x-python",
   "name": "python",
   "nbconvert_exporter": "python",
   "pygments_lexer": "ipython3",
   "version": "3.11.4"
  }
 },
 "nbformat": 4,
 "nbformat_minor": 2
}
